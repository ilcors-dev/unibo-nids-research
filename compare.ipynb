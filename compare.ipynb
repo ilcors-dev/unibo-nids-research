{
 "cells": [
  {
   "cell_type": "markdown",
   "id": "7a5ad797-964b-4f80-8b4a-62213fce848b",
   "metadata": {},
   "source": [
    "# Benchmark and Compare CIC17 & CIC18 base & improved datasets"
   ]
  },
  {
   "cell_type": "code",
   "execution_count": 24,
   "id": "6fbf7d4d-5626-46c0-8cd5-31aa341d8e0b",
   "metadata": {},
   "outputs": [],
   "source": [
    "import subprocess\n",
    "import os\n",
    "from concurrent.futures import ThreadPoolExecutor, as_completed\n",
    "import threading"
   ]
  },
  {
   "cell_type": "markdown",
   "id": "3bae3a0c-ab5f-4975-9cec-3bf22f29e712",
   "metadata": {},
   "source": [
    "## Preparation"
   ]
  },
  {
   "cell_type": "markdown",
   "id": "b813b9c9-4dde-4b9f-8a88-a4ebc4753259",
   "metadata": {},
   "source": [
    "Let's prepare a function that helps us running the tests for a given (dataset, target, test) tuple"
   ]
  },
  {
   "cell_type": "code",
   "execution_count": 25,
   "id": "b5fe5aed-b3fe-4035-afee-83f7ee3e1135",
   "metadata": {},
   "outputs": [],
   "source": [
    "# lock for thread-safe progress updates\n",
    "progress_lock = threading.Lock()\n",
    "\n",
    "def run_benchmark(metadata_path: str, results_path: str, target: str, data_folder: str, test_name: str) -> str:\n",
    "    \"\"\"\n",
    "    Run a single benchmark test from BadSmells repository.\n",
    "    \n",
    "    Args:\n",
    "        metadata_path (str): Path to the metadata JSON file.\n",
    "        results_path (str): Path to save the benchmark results.\n",
    "        target (str): The target attack class (e.g., \"DoS attacks-Hulk\").\n",
    "        data_folder (str): Path to the dataset folder (e.g., \"data/CIC18/\").\n",
    "        test_name (str): The specific test to run (e.g., \"CosineTest\").\n",
    "        \n",
    "    Returns:\n",
    "        str: Result message indicating success or failure.\n",
    "    \"\"\"\n",
    "    command = [\n",
    "        \"python3\",\n",
    "        \"./DataBadSmells/src/netstats.py\",\n",
    "        \"--metadata\", metadata_path,\n",
    "        \"--results\", results_path,\n",
    "        \"--target\", target,\n",
    "        \"--folder\",\n",
    "        \"--csv\", data_folder,\n",
    "        \"--test\", test_name\n",
    "    ]\n",
    "    \n",
    "    try:\n",
    "        result = subprocess.run(command, capture_output=True, text=True)\n",
    "        if result.returncode == 0:\n",
    "            return f\"Success: {test_name} for {target}\"\n",
    "        else:\n",
    "            return f\"Error: {test_name} for {target}\\n{result.stderr}\"\n",
    "    \n",
    "    except Exception as e:\n",
    "        return f\"Exception occurred: {e} for {test_name} for {target}\"\n",
    "\n",
    "\n",
    "def run_all_benchmarks_parallel(metadata_path: str, results_path: str, data_folder: str, targets: list[str], tests: list[str], max_workers: int = 8):\n",
    "    \"\"\"\n",
    "    Run benchmarks for all targets and tests in parallel with a progress indicator.\n",
    "    \n",
    "    Args:\n",
    "        metadata_path (str): Path to the metadata JSON file.\n",
    "        results_path (str): Path to save results.\n",
    "        data_folder (str): Path to the dataset folder.\n",
    "        targets (list): List of target attack classes.\n",
    "        tests (list): List of tests to run for each target.\n",
    "        max_workers (int): Maximum number of parallel workers.\n",
    "    \"\"\"\n",
    "    total_tasks = len(targets) * len(tests)\n",
    "    completed_tasks = 0\n",
    "    \n",
    "    with ThreadPoolExecutor(max_workers=max_workers) as executor:\n",
    "        future_to_task = {\n",
    "            executor.submit(run_benchmark, metadata_path, results_path, target, data_folder, test): (target, test)\n",
    "            for target in targets\n",
    "            for test in tests\n",
    "        }\n",
    "        \n",
    "        for future in as_completed(future_to_task):\n",
    "            result_message = future.result()\n",
    "            target, test = future_to_task[future]\n",
    "            \n",
    "            # update progress\n",
    "            with progress_lock:\n",
    "                completed_tasks += 1\n",
    "                percentage = (completed_tasks / total_tasks) * 100\n",
    "                print(f\"[{percentage:.2f}%] {result_message}\")"
   ]
  },
  {
   "cell_type": "code",
   "execution_count": 29,
   "id": "004dd36e-fa9c-4317-82cf-a99fa97f35b5",
   "metadata": {},
   "outputs": [],
   "source": [
    "cic17_targets = [\n",
    "    \"DoS Hulk\",\n",
    "    \"DDoS\",\n",
    "    \"DoS GoldenEye\",\n",
    "    \"FTP-Patator\",\n",
    "    \"SSH-Patator\",\n",
    "    \"PortScan\",\n",
    "    \"DoS slowloris\",\n",
    "    \"DoS Slowhttptest\",\n",
    "    \"Bot\",\n",
    "    \"Web Attack - Brute Force\",\n",
    "    \"Infiltration\",\n",
    "    \"Web Attack - Sql Injection\",\n",
    "    \"Heartbleed\"\n",
    "]"
   ]
  },
  {
   "cell_type": "markdown",
   "id": "53d2c9a2-f61b-4aae-a248-7daeeba627e7",
   "metadata": {},
   "source": [
    "## CIC17 - base version"
   ]
  },
  {
   "cell_type": "code",
   "execution_count": 28,
   "id": "6b83ae4e-d872-4e57-838b-943e2f2d2259",
   "metadata": {},
   "outputs": [
    {
     "name": "stdout",
     "output_type": "stream",
     "text": [
      "[25.00%] Success: PortTest for DoS Hulk\n",
      "[50.00%] Success: CosineTest for DoS Hulk\n",
      "[75.00%] Success: NearestNeighboursTest for DoS Hulk\n",
      "[100.00%] Success: SingleFeatureEfficacyTest for DoS Hulk\n"
     ]
    }
   ],
   "source": [
    "metadata_path = \"./DataBadSmells/metadata/cic/metadata.json\"\n",
    "results_path = \"./results/CIC17/\"\n",
    "data_folder = \"/Volumes/EXTERNAL_US/nids_data/data/CIC17/\"\n",
    "\n",
    "tests = [\n",
    "    \"CosineTest\",\n",
    "    \"PortTest\",\n",
    "    \"SingleFeatureEfficacyTest\",\n",
    "    \"NearestNeighboursTest\"\n",
    "]\n",
    "\n",
    "run_all_benchmarks_parallel(metadata_path, results_path, data_folder, cic17_targets, tests)"
   ]
  },
  {
   "cell_type": "code",
   "execution_count": null,
   "id": "0292b821-9ac8-4073-9692-aec6ca7a7e47",
   "metadata": {},
   "outputs": [],
   "source": [
    "## CIC17 - improved version"
   ]
  }
 ],
 "metadata": {
  "kernelspec": {
   "display_name": "Python 3 (ipykernel)",
   "language": "python",
   "name": "python3"
  },
  "language_info": {
   "codemirror_mode": {
    "name": "ipython",
    "version": 3
   },
   "file_extension": ".py",
   "mimetype": "text/x-python",
   "name": "python",
   "nbconvert_exporter": "python",
   "pygments_lexer": "ipython3",
   "version": "3.11.11"
  }
 },
 "nbformat": 4,
 "nbformat_minor": 5
}
