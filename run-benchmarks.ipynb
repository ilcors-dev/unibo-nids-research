{
 "cells": [
  {
   "cell_type": "markdown",
   "id": "7a5ad797-964b-4f80-8b4a-62213fce848b",
   "metadata": {},
   "source": [
    "# Benchmark and Compare CIC17 base & improved datasets"
   ]
  },
  {
   "cell_type": "code",
   "execution_count": 15,
   "id": "6fbf7d4d-5626-46c0-8cd5-31aa341d8e0b",
   "metadata": {},
   "outputs": [],
   "source": [
    "import subprocess\n",
    "import os\n",
    "from concurrent.futures import ThreadPoolExecutor, ProcessPoolExecutor, as_completed\n",
    "import threading\n",
    "import time\n",
    "import numpy as np\n",
    "import random\n",
    "\n",
    "np.random.seed(42)\n",
    "random.seed(42)"
   ]
  },
  {
   "cell_type": "markdown",
   "id": "3bae3a0c-ab5f-4975-9cec-3bf22f29e712",
   "metadata": {},
   "source": [
    "## Preparation"
   ]
  },
  {
   "cell_type": "markdown",
   "id": "b813b9c9-4dde-4b9f-8a88-a4ebc4753259",
   "metadata": {},
   "source": [
    "Let's prepare a function that helps us running the tests for a given (dataset, target, test) tuple"
   ]
  },
  {
   "cell_type": "code",
   "execution_count": 16,
   "id": "b5fe5aed-b3fe-4035-afee-83f7ee3e1135",
   "metadata": {},
   "outputs": [],
   "source": [
    "# lock for thread-safe progress updates\n",
    "progress_lock = threading.Lock()\n",
    "\n",
    "def run_benchmark(metadata_path: str, results_path: str, target: str, data_folder: str, test_name: str) -> str:\n",
    "    \"\"\"\n",
    "    Run a single benchmark test from BadSmells repository.\n",
    "    \n",
    "    Args:\n",
    "        metadata_path (str): Path to the metadata JSON file.\n",
    "        results_path (str): Path to save the benchmark results.\n",
    "        target (str): The target attack class (e.g., \"DoS attacks-Hulk\").\n",
    "        data_folder (str): Path to the dataset folder (e.g., \"data/CIC18/\").\n",
    "        test_name (str): The specific test to run (e.g., \"CosineTest\").\n",
    "        \n",
    "    Returns:\n",
    "        str: Result message indicating success or failure.\n",
    "    \"\"\"\n",
    "    start_time = time.time()\n",
    "    command = [\n",
    "        \"python3\",\n",
    "        \"./DataBadSmells/src/netstats.py\",\n",
    "        \"--metadata\", metadata_path,\n",
    "        \"--results\", results_path,\n",
    "        \"--target\", target,\n",
    "        \"--folder\",\n",
    "        \"--csv\", data_folder,\n",
    "        \"--test\", test_name\n",
    "    ]\n",
    "    \n",
    "    try:\n",
    "        result = subprocess.run(command, capture_output=True, text=True)\n",
    "        elapsed = time.time() - start_time\n",
    "        if result.returncode == 0:\n",
    "            return f\"Success: {test_name} for {target} (Elapsed time: {elapsed:.2f}s)\"\n",
    "        else:\n",
    "            return f\"Error: {test_name} for {target} (Elapsed time: {elapsed:.2f}s)\\n{result.stderr}\"\n",
    "    \n",
    "    except Exception as e:\n",
    "        elapsed = time.time() - start_time\n",
    "        return f\"Exception occurred while running {test_name} for {target} (Elapsed time: {elapsed:.2f}s): {e}\"\n",
    "\n",
    "def run_all_benchmarks_parallel(metadata_path: str, results_path: str, data_folder: str, targets: list[str], tests: list[str], max_workers: int = 8):\n",
    "    \"\"\"\n",
    "    Run benchmarks for all targets and tests in parallel with a progress indicator.\n",
    "    \n",
    "    Args:\n",
    "        metadata_path (str): Path to the metadata JSON file.\n",
    "        results_path (str): Path to save results.\n",
    "        data_folder (str): Path to the dataset folder.\n",
    "        targets (list): List of target attack classes.\n",
    "        tests (list): List of tests to run for each target.\n",
    "        max_workers (int): Maximum number of parallel workers.\n",
    "    \"\"\"\n",
    "    total_tasks = len(targets) * len(tests)\n",
    "    completed_tasks = 0\n",
    "    overall_start = time.time()\n",
    "    \n",
    "    with ThreadPoolExecutor(max_workers=max_workers) as executor:\n",
    "        future_to_task = {\n",
    "            executor.submit(run_benchmark, metadata_path, results_path, target, data_folder, test): (target, test)\n",
    "            for target in targets\n",
    "            for test in tests\n",
    "        }\n",
    "        \n",
    "        for future in as_completed(future_to_task):\n",
    "            result_message = future.result()\n",
    "            target, test = future_to_task[future]\n",
    "            \n",
    "            # update progress\n",
    "            with progress_lock:\n",
    "                completed_tasks += 1\n",
    "                percentage = (completed_tasks / total_tasks) * 100\n",
    "                print(f\"[{percentage:.2f}%] {result_message}\")\n",
    "\n",
    "    # final elapsed time\n",
    "    overall_elapsed = time.time() - overall_start\n",
    "    print(f\"\\nAll benchmarks completed in {overall_elapsed:.2f}s.\")"
   ]
  },
  {
   "cell_type": "code",
   "execution_count": 18,
   "id": "004dd36e-fa9c-4317-82cf-a99fa97f35b5",
   "metadata": {},
   "outputs": [],
   "source": [
    "cic17_targets = [\n",
    "    \"DoS Hulk\",\n",
    "    \"DDoS\",\n",
    "    \"DoS GoldenEye\",\n",
    "    \"FTP Patator\",\n",
    "    \"SSH Patator\",\n",
    "    \"Port Scan\",\n",
    "    \"DoS slowloris\",\n",
    "    \"DoS Slowhttptest\",\n",
    "    \"Bot\",\n",
    "    \"Web Attack - Brute Force\",\n",
    "    \"Infiltration\",\n",
    "    \"Web Attack - Sql Injection\",\n",
    "    \"Heartbleed\"\n",
    "]\n",
    "\n",
    "tests = [\n",
    "   # \"CosineTest\", # PDDc (Poor Data Diversity), TCc (Traffic Collapse)\n",
    "   # \"PortTest\", # UGTc (Unclear Ground Truth)\n",
    "   # \"SingleFeatureEfficacyTest\", # HDFc (Highly Dependent Features)\n",
    "   # \"NearestNeighboursTest\" # WLc (Wrong Label Smell),\n",
    "    \"CompleteTest\"\n",
    "]"
   ]
  },
  {
   "cell_type": "markdown",
   "id": "53d2c9a2-f61b-4aae-a248-7daeeba627e7",
   "metadata": {},
   "source": [
    "## CIC17 - base version"
   ]
  },
  {
   "cell_type": "code",
   "execution_count": 4,
   "id": "87ae7c56-ba16-4ea6-99cb-9de4a2f86eed",
   "metadata": {},
   "outputs": [],
   "source": [
    "cic17_base_metadata_path = \"./DataBadSmells/metadata/cic/metadata.json\"\n",
    "cic17_base_results_path = \"./results/CIC17_base_first_run/\"\n",
    "cic17_base_data_folder = \"./data/CIC17/\""
   ]
  },
  {
   "cell_type": "code",
   "execution_count": 28,
   "id": "54d45e9e-9862-48e6-af24-749ac005f3c8",
   "metadata": {},
   "outputs": [
    {
     "name": "stderr",
     "output_type": "stream",
     "text": [
      "Python(66626) MallocStackLogging: can't turn off malloc stack logging because it was not enabled.\n",
      "Python(66628) MallocStackLogging: can't turn off malloc stack logging because it was not enabled.\n",
      "Python(66629) MallocStackLogging: can't turn off malloc stack logging because it was not enabled.\n",
      "Python(66630) MallocStackLogging: can't turn off malloc stack logging because it was not enabled.\n",
      "Python(66631) MallocStackLogging: can't turn off malloc stack logging because it was not enabled.\n",
      "Python(66632) MallocStackLogging: can't turn off malloc stack logging because it was not enabled.\n",
      "Python(66633) MallocStackLogging: can't turn off malloc stack logging because it was not enabled.\n",
      "Python(66634) MallocStackLogging: can't turn off malloc stack logging because it was not enabled.\n"
     ]
    },
    {
     "name": "stdout",
     "output_type": "stream",
     "text": [
      "[7.69%] Success: CompleteTest for FTP Patator (Elapsed time: 822.20s)\n"
     ]
    },
    {
     "name": "stderr",
     "output_type": "stream",
     "text": [
      "Python(70530) MallocStackLogging: can't turn off malloc stack logging because it was not enabled.\n"
     ]
    },
    {
     "name": "stdout",
     "output_type": "stream",
     "text": [
      "[15.38%] Success: CompleteTest for Port Scan (Elapsed time: 969.21s)\n"
     ]
    },
    {
     "name": "stderr",
     "output_type": "stream",
     "text": [
      "Python(71224) MallocStackLogging: can't turn off malloc stack logging because it was not enabled.\n"
     ]
    },
    {
     "name": "stdout",
     "output_type": "stream",
     "text": [
      "[23.08%] Success: CompleteTest for SSH Patator (Elapsed time: 982.79s)\n"
     ]
    },
    {
     "name": "stderr",
     "output_type": "stream",
     "text": [
      "Python(71288) MallocStackLogging: can't turn off malloc stack logging because it was not enabled.\n"
     ]
    },
    {
     "name": "stdout",
     "output_type": "stream",
     "text": [
      "[30.77%] Success: CompleteTest for Web Attack - Brute Force (Elapsed time: 786.18s)\n"
     ]
    },
    {
     "name": "stderr",
     "output_type": "stream",
     "text": [
      "Python(74968) MallocStackLogging: can't turn off malloc stack logging because it was not enabled.\n"
     ]
    },
    {
     "name": "stdout",
     "output_type": "stream",
     "text": [
      "[38.46%] Success: CompleteTest for DoS slowloris (Elapsed time: 2317.50s)\n"
     ]
    },
    {
     "name": "stderr",
     "output_type": "stream",
     "text": [
      "Python(77536) MallocStackLogging: can't turn off malloc stack logging because it was not enabled.\n"
     ]
    },
    {
     "name": "stdout",
     "output_type": "stream",
     "text": [
      "[46.15%] Success: CompleteTest for DoS GoldenEye (Elapsed time: 2475.75s)\n",
      "[53.85%] Success: CompleteTest for DoS Slowhttptest (Elapsed time: 2562.64s)\n",
      "[61.54%] Success: CompleteTest for Web Attack - Sql Injection (Elapsed time: 833.02s)\n",
      "[69.23%] Success: CompleteTest for Infiltration (Elapsed time: 1618.45s)\n",
      "[76.92%] Success: CompleteTest for Bot (Elapsed time: 1953.22s)\n",
      "[84.62%] Success: CompleteTest for DDoS (Elapsed time: 2953.56s)\n",
      "[92.31%] Success: CompleteTest for DoS Hulk (Elapsed time: 3068.92s)\n",
      "[100.00%] Success: CompleteTest for Heartbleed (Elapsed time: 786.59s)\n",
      "\n",
      "All benchmarks completed in 3104.12s.\n"
     ]
    }
   ],
   "source": [
    "run_all_benchmarks_parallel(cic17_base_metadata_path, \"./results/CIC17_base_first_run/\", cic17_base_data_folder, cic17_targets, tests)"
   ]
  },
  {
   "cell_type": "code",
   "execution_count": 5,
   "id": "6b83ae4e-d872-4e57-838b-943e2f2d2259",
   "metadata": {},
   "outputs": [
    {
     "name": "stdout",
     "output_type": "stream",
     "text": [
      "[1.92%] Success: PortTest for DDoS (Elapsed time: 50.17s)\n",
      "[3.85%] Success: PortTest for DoS Hulk (Elapsed time: 62.45s)\n",
      "[5.77%] Success: CosineTest for DDoS (Elapsed time: 92.66s)\n",
      "[7.69%] Success: CosineTest for DoS Hulk (Elapsed time: 103.84s)\n",
      "[9.62%] Success: PortTest for DoS GoldenEye (Elapsed time: 1996.36s)\n",
      "[11.54%] Success: CosineTest for DoS GoldenEye (Elapsed time: 2031.99s)\n",
      "[13.46%] Success: CosineTest for FTP Patator (Elapsed time: 133.86s)\n",
      "[15.38%] Success: NearestNeighboursTest for DoS GoldenEye (Elapsed time: 2109.65s)\n",
      "[17.31%] Success: PortTest for FTP Patator (Elapsed time: 132.05s)\n",
      "[19.23%] Success: CosineTest for SSH Patator (Elapsed time: 120.99s)\n",
      "[21.15%] Error: NearestNeighboursTest for FTP Patator (Elapsed time: 143.89s)\n",
      "/Users/ilcors-dev/src/unibo/unibo-nids-research/DataBadSmells/src/data_manip.py:15: DtypeWarning: Columns (0,1,3,6,84) have mixed types. Specify dtype option on import or set low_memory=False.\n",
      "  df = pd.read_csv(_file, encoding_errors='ignore')\n",
      "Traceback (most recent call last):\n",
      "  File \"/Users/ilcors-dev/src/unibo/unibo-nids-research/./DataBadSmells/src/netstats.py\", line 266, in <module>\n",
      "    main(sys.argv[1:])\n",
      "  File \"/Users/ilcors-dev/src/unibo/unibo-nids-research/./DataBadSmells/src/netstats.py\", line 248, in main\n",
      "    out = cli.chooseTest()\n",
      "          ^^^^^^^^^^^^^^^^\n",
      "  File \"/Users/ilcors-dev/src/unibo/unibo-nids-research/./DataBadSmells/src/netstats.py\", line 144, in chooseTest\n",
      "    results_dict[test_name] = t.pipeline(self.df, self.metadata, self.args.target)\n",
      "                              ^^^^^^^^^^^^^^^^^^^^^^^^^^^^^^^^^^^^^^^^^^^^^^^^^^^^\n",
      "  File \"/Users/ilcors-dev/src/unibo/unibo-nids-research/DataBadSmells/src/tests.py\", line 219, in pipeline\n",
      "    knn, benign_df, _ = self.mislabelNN(cluster_df, metadata, target, num_points)\n",
      "                        ^^^^^^^^^^^^^^^^^^^^^^^^^^^^^^^^^^^^^^^^^^^^^^^^^^^^^^^^^\n",
      "  File \"/Users/ilcors-dev/src/unibo/unibo-nids-research/DataBadSmells/src/tests.py\", line 203, in mislabelNN\n",
      "    knn = neigh.kneighbors(attack_df.loc[:, df.columns != label_field])\n",
      "          ^^^^^^^^^^^^^^^^^^^^^^^^^^^^^^^^^^^^^^^^^^^^^^^^^^^^^^^^^^^^^\n",
      "  File \"/Users/ilcors-dev/src/unibo/unibo-nids-research/.venv/lib/python3.11/site-packages/sklearn/neighbors/_base.py\", line 804, in kneighbors\n",
      "    X = self._validate_data(X, accept_sparse=\"csr\", reset=False, order=\"C\")\n",
      "        ^^^^^^^^^^^^^^^^^^^^^^^^^^^^^^^^^^^^^^^^^^^^^^^^^^^^^^^^^^^^^^^^^^^\n",
      "  File \"/Users/ilcors-dev/src/unibo/unibo-nids-research/.venv/lib/python3.11/site-packages/sklearn/base.py\", line 605, in _validate_data\n",
      "    out = check_array(X, input_name=\"X\", **check_params)\n",
      "          ^^^^^^^^^^^^^^^^^^^^^^^^^^^^^^^^^^^^^^^^^^^^^^\n",
      "  File \"/Users/ilcors-dev/src/unibo/unibo-nids-research/.venv/lib/python3.11/site-packages/sklearn/utils/validation.py\", line 967, in check_array\n",
      "    raise ValueError(\n",
      "ValueError: Found array with 0 sample(s) (shape=(0, 78)) while a minimum of 1 is required by NearestNeighbors.\n",
      "\n",
      "[23.08%] Success: PortTest for SSH Patator (Elapsed time: 112.36s)\n",
      "[25.00%] Error: NearestNeighboursTest for SSH Patator (Elapsed time: 123.98s)\n",
      "/Users/ilcors-dev/src/unibo/unibo-nids-research/DataBadSmells/src/data_manip.py:15: DtypeWarning: Columns (0,1,3,6,84) have mixed types. Specify dtype option on import or set low_memory=False.\n",
      "  df = pd.read_csv(_file, encoding_errors='ignore')\n",
      "Traceback (most recent call last):\n",
      "  File \"/Users/ilcors-dev/src/unibo/unibo-nids-research/./DataBadSmells/src/netstats.py\", line 266, in <module>\n",
      "    main(sys.argv[1:])\n",
      "  File \"/Users/ilcors-dev/src/unibo/unibo-nids-research/./DataBadSmells/src/netstats.py\", line 248, in main\n",
      "    out = cli.chooseTest()\n",
      "          ^^^^^^^^^^^^^^^^\n",
      "  File \"/Users/ilcors-dev/src/unibo/unibo-nids-research/./DataBadSmells/src/netstats.py\", line 144, in chooseTest\n",
      "    results_dict[test_name] = t.pipeline(self.df, self.metadata, self.args.target)\n",
      "                              ^^^^^^^^^^^^^^^^^^^^^^^^^^^^^^^^^^^^^^^^^^^^^^^^^^^^\n",
      "  File \"/Users/ilcors-dev/src/unibo/unibo-nids-research/DataBadSmells/src/tests.py\", line 219, in pipeline\n",
      "    knn, benign_df, _ = self.mislabelNN(cluster_df, metadata, target, num_points)\n",
      "                        ^^^^^^^^^^^^^^^^^^^^^^^^^^^^^^^^^^^^^^^^^^^^^^^^^^^^^^^^^\n",
      "  File \"/Users/ilcors-dev/src/unibo/unibo-nids-research/DataBadSmells/src/tests.py\", line 203, in mislabelNN\n",
      "    knn = neigh.kneighbors(attack_df.loc[:, df.columns != label_field])\n",
      "          ^^^^^^^^^^^^^^^^^^^^^^^^^^^^^^^^^^^^^^^^^^^^^^^^^^^^^^^^^^^^^\n",
      "  File \"/Users/ilcors-dev/src/unibo/unibo-nids-research/.venv/lib/python3.11/site-packages/sklearn/neighbors/_base.py\", line 804, in kneighbors\n",
      "    X = self._validate_data(X, accept_sparse=\"csr\", reset=False, order=\"C\")\n",
      "        ^^^^^^^^^^^^^^^^^^^^^^^^^^^^^^^^^^^^^^^^^^^^^^^^^^^^^^^^^^^^^^^^^^^\n",
      "  File \"/Users/ilcors-dev/src/unibo/unibo-nids-research/.venv/lib/python3.11/site-packages/sklearn/base.py\", line 605, in _validate_data\n",
      "    out = check_array(X, input_name=\"X\", **check_params)\n",
      "          ^^^^^^^^^^^^^^^^^^^^^^^^^^^^^^^^^^^^^^^^^^^^^^\n",
      "  File \"/Users/ilcors-dev/src/unibo/unibo-nids-research/.venv/lib/python3.11/site-packages/sklearn/utils/validation.py\", line 967, in check_array\n",
      "    raise ValueError(\n",
      "ValueError: Found array with 0 sample(s) (shape=(0, 78)) while a minimum of 1 is required by NearestNeighbors.\n",
      "\n",
      "[26.92%] Success: NearestNeighboursTest for DDoS (Elapsed time: 2587.61s)\n",
      "[28.85%] Success: CosineTest for Port Scan (Elapsed time: 81.24s)\n",
      "[30.77%] Success: PortTest for Port Scan (Elapsed time: 81.07s)\n",
      "[32.69%] Error: NearestNeighboursTest for Port Scan (Elapsed time: 113.10s)\n",
      "/Users/ilcors-dev/src/unibo/unibo-nids-research/DataBadSmells/src/data_manip.py:15: DtypeWarning: Columns (0,1,3,6,84) have mixed types. Specify dtype option on import or set low_memory=False.\n",
      "  df = pd.read_csv(_file, encoding_errors='ignore')\n",
      "Traceback (most recent call last):\n",
      "  File \"/Users/ilcors-dev/src/unibo/unibo-nids-research/./DataBadSmells/src/netstats.py\", line 266, in <module>\n",
      "    main(sys.argv[1:])\n",
      "  File \"/Users/ilcors-dev/src/unibo/unibo-nids-research/./DataBadSmells/src/netstats.py\", line 248, in main\n",
      "    out = cli.chooseTest()\n",
      "          ^^^^^^^^^^^^^^^^\n",
      "  File \"/Users/ilcors-dev/src/unibo/unibo-nids-research/./DataBadSmells/src/netstats.py\", line 144, in chooseTest\n",
      "    results_dict[test_name] = t.pipeline(self.df, self.metadata, self.args.target)\n",
      "                              ^^^^^^^^^^^^^^^^^^^^^^^^^^^^^^^^^^^^^^^^^^^^^^^^^^^^\n",
      "  File \"/Users/ilcors-dev/src/unibo/unibo-nids-research/DataBadSmells/src/tests.py\", line 219, in pipeline\n",
      "    knn, benign_df, _ = self.mislabelNN(cluster_df, metadata, target, num_points)\n",
      "                        ^^^^^^^^^^^^^^^^^^^^^^^^^^^^^^^^^^^^^^^^^^^^^^^^^^^^^^^^^\n",
      "  File \"/Users/ilcors-dev/src/unibo/unibo-nids-research/DataBadSmells/src/tests.py\", line 203, in mislabelNN\n",
      "    knn = neigh.kneighbors(attack_df.loc[:, df.columns != label_field])\n",
      "          ^^^^^^^^^^^^^^^^^^^^^^^^^^^^^^^^^^^^^^^^^^^^^^^^^^^^^^^^^^^^^\n",
      "  File \"/Users/ilcors-dev/src/unibo/unibo-nids-research/.venv/lib/python3.11/site-packages/sklearn/neighbors/_base.py\", line 804, in kneighbors\n",
      "    X = self._validate_data(X, accept_sparse=\"csr\", reset=False, order=\"C\")\n",
      "        ^^^^^^^^^^^^^^^^^^^^^^^^^^^^^^^^^^^^^^^^^^^^^^^^^^^^^^^^^^^^^^^^^^^\n",
      "  File \"/Users/ilcors-dev/src/unibo/unibo-nids-research/.venv/lib/python3.11/site-packages/sklearn/base.py\", line 605, in _validate_data\n",
      "    out = check_array(X, input_name=\"X\", **check_params)\n",
      "          ^^^^^^^^^^^^^^^^^^^^^^^^^^^^^^^^^^^^^^^^^^^^^^\n",
      "  File \"/Users/ilcors-dev/src/unibo/unibo-nids-research/.venv/lib/python3.11/site-packages/sklearn/utils/validation.py\", line 967, in check_array\n",
      "    raise ValueError(\n",
      "ValueError: Found array with 0 sample(s) (shape=(0, 78)) while a minimum of 1 is required by NearestNeighbors.\n",
      "\n",
      "[34.62%] Success: CosineTest for DoS slowloris (Elapsed time: 104.90s)\n",
      "[36.54%] Success: NearestNeighboursTest for DoS Hulk (Elapsed time: 2915.14s)\n",
      "[38.46%] Success: PortTest for DoS slowloris (Elapsed time: 62.76s)\n",
      "[40.38%] Success: NearestNeighboursTest for DoS slowloris (Elapsed time: 111.97s)\n",
      "[42.31%] Success: CosineTest for DoS Slowhttptest (Elapsed time: 88.56s)\n",
      "[44.23%] Success: PortTest for DoS Slowhttptest (Elapsed time: 58.21s)\n",
      "[46.15%] Success: SingleFeatureEfficacyTest for FTP Patator (Elapsed time: 1167.35s)\n",
      "[48.08%] Success: SingleFeatureEfficacyTest for SSH Patator (Elapsed time: 1087.40s)\n",
      "[50.00%] Success: NearestNeighboursTest for DoS Slowhttptest (Elapsed time: 109.43s)\n",
      "[51.92%] Success: CosineTest for Bot (Elapsed time: 80.75s)\n",
      "[53.85%] Success: PortTest for Bot (Elapsed time: 59.98s)\n",
      "[55.77%] Success: NearestNeighboursTest for Bot (Elapsed time: 99.57s)\n",
      "[57.69%] Success: SingleFeatureEfficacyTest for Port Scan (Elapsed time: 987.88s)\n",
      "[59.62%] Success: CosineTest for Web Attack - Brute Force (Elapsed time: 56.76s)\n",
      "[61.54%] Success: PortTest for Web Attack - Brute Force (Elapsed time: 58.29s)\n",
      "[63.46%] Error: NearestNeighboursTest for Web Attack - Brute Force (Elapsed time: 86.22s)\n",
      "/Users/ilcors-dev/src/unibo/unibo-nids-research/DataBadSmells/src/data_manip.py:15: DtypeWarning: Columns (0,1,3,6,84) have mixed types. Specify dtype option on import or set low_memory=False.\n",
      "  df = pd.read_csv(_file, encoding_errors='ignore')\n",
      "Traceback (most recent call last):\n",
      "  File \"/Users/ilcors-dev/src/unibo/unibo-nids-research/./DataBadSmells/src/netstats.py\", line 266, in <module>\n",
      "    main(sys.argv[1:])\n",
      "  File \"/Users/ilcors-dev/src/unibo/unibo-nids-research/./DataBadSmells/src/netstats.py\", line 248, in main\n",
      "    out = cli.chooseTest()\n",
      "          ^^^^^^^^^^^^^^^^\n",
      "  File \"/Users/ilcors-dev/src/unibo/unibo-nids-research/./DataBadSmells/src/netstats.py\", line 144, in chooseTest\n",
      "    results_dict[test_name] = t.pipeline(self.df, self.metadata, self.args.target)\n",
      "                              ^^^^^^^^^^^^^^^^^^^^^^^^^^^^^^^^^^^^^^^^^^^^^^^^^^^^\n",
      "  File \"/Users/ilcors-dev/src/unibo/unibo-nids-research/DataBadSmells/src/tests.py\", line 219, in pipeline\n",
      "    knn, benign_df, _ = self.mislabelNN(cluster_df, metadata, target, num_points)\n",
      "                        ^^^^^^^^^^^^^^^^^^^^^^^^^^^^^^^^^^^^^^^^^^^^^^^^^^^^^^^^^\n",
      "  File \"/Users/ilcors-dev/src/unibo/unibo-nids-research/DataBadSmells/src/tests.py\", line 203, in mislabelNN\n",
      "    knn = neigh.kneighbors(attack_df.loc[:, df.columns != label_field])\n",
      "          ^^^^^^^^^^^^^^^^^^^^^^^^^^^^^^^^^^^^^^^^^^^^^^^^^^^^^^^^^^^^^\n",
      "  File \"/Users/ilcors-dev/src/unibo/unibo-nids-research/.venv/lib/python3.11/site-packages/sklearn/neighbors/_base.py\", line 804, in kneighbors\n",
      "    X = self._validate_data(X, accept_sparse=\"csr\", reset=False, order=\"C\")\n",
      "        ^^^^^^^^^^^^^^^^^^^^^^^^^^^^^^^^^^^^^^^^^^^^^^^^^^^^^^^^^^^^^^^^^^^\n",
      "  File \"/Users/ilcors-dev/src/unibo/unibo-nids-research/.venv/lib/python3.11/site-packages/sklearn/base.py\", line 605, in _validate_data\n",
      "    out = check_array(X, input_name=\"X\", **check_params)\n",
      "          ^^^^^^^^^^^^^^^^^^^^^^^^^^^^^^^^^^^^^^^^^^^^^^\n",
      "  File \"/Users/ilcors-dev/src/unibo/unibo-nids-research/.venv/lib/python3.11/site-packages/sklearn/utils/validation.py\", line 967, in check_array\n",
      "    raise ValueError(\n",
      "ValueError: Found array with 0 sample(s) (shape=(0, 78)) while a minimum of 1 is required by NearestNeighbors.\n",
      "\n",
      "[65.38%] Success: CosineTest for Infiltration (Elapsed time: 68.66s)\n",
      "[67.31%] Success: PortTest for Infiltration (Elapsed time: 55.84s)\n",
      "[69.23%] Success: SingleFeatureEfficacyTest for Web Attack - Brute Force (Elapsed time: 957.42s)\n",
      "[71.15%] Success: NearestNeighboursTest for Infiltration (Elapsed time: 85.72s)\n",
      "[73.08%] Success: CosineTest for Web Attack - Sql Injection (Elapsed time: 63.64s)\n",
      "[75.00%] Success: PortTest for Web Attack - Sql Injection (Elapsed time: 63.22s)\n",
      "[76.92%] Success: SingleFeatureEfficacyTest for DoS GoldenEye (Elapsed time: 4907.18s)\n",
      "[78.85%] Error: NearestNeighboursTest for Web Attack - Sql Injection (Elapsed time: 79.09s)\n",
      "/Users/ilcors-dev/src/unibo/unibo-nids-research/DataBadSmells/src/data_manip.py:15: DtypeWarning: Columns (0,1,3,6,84) have mixed types. Specify dtype option on import or set low_memory=False.\n",
      "  df = pd.read_csv(_file, encoding_errors='ignore')\n",
      "Traceback (most recent call last):\n",
      "  File \"/Users/ilcors-dev/src/unibo/unibo-nids-research/./DataBadSmells/src/netstats.py\", line 266, in <module>\n",
      "    main(sys.argv[1:])\n",
      "  File \"/Users/ilcors-dev/src/unibo/unibo-nids-research/./DataBadSmells/src/netstats.py\", line 248, in main\n",
      "    out = cli.chooseTest()\n",
      "          ^^^^^^^^^^^^^^^^\n",
      "  File \"/Users/ilcors-dev/src/unibo/unibo-nids-research/./DataBadSmells/src/netstats.py\", line 144, in chooseTest\n",
      "    results_dict[test_name] = t.pipeline(self.df, self.metadata, self.args.target)\n",
      "                              ^^^^^^^^^^^^^^^^^^^^^^^^^^^^^^^^^^^^^^^^^^^^^^^^^^^^\n",
      "  File \"/Users/ilcors-dev/src/unibo/unibo-nids-research/DataBadSmells/src/tests.py\", line 219, in pipeline\n",
      "    knn, benign_df, _ = self.mislabelNN(cluster_df, metadata, target, num_points)\n",
      "                        ^^^^^^^^^^^^^^^^^^^^^^^^^^^^^^^^^^^^^^^^^^^^^^^^^^^^^^^^^\n",
      "  File \"/Users/ilcors-dev/src/unibo/unibo-nids-research/DataBadSmells/src/tests.py\", line 203, in mislabelNN\n",
      "    knn = neigh.kneighbors(attack_df.loc[:, df.columns != label_field])\n",
      "          ^^^^^^^^^^^^^^^^^^^^^^^^^^^^^^^^^^^^^^^^^^^^^^^^^^^^^^^^^^^^^\n",
      "  File \"/Users/ilcors-dev/src/unibo/unibo-nids-research/.venv/lib/python3.11/site-packages/sklearn/neighbors/_base.py\", line 804, in kneighbors\n",
      "    X = self._validate_data(X, accept_sparse=\"csr\", reset=False, order=\"C\")\n",
      "        ^^^^^^^^^^^^^^^^^^^^^^^^^^^^^^^^^^^^^^^^^^^^^^^^^^^^^^^^^^^^^^^^^^^\n",
      "  File \"/Users/ilcors-dev/src/unibo/unibo-nids-research/.venv/lib/python3.11/site-packages/sklearn/base.py\", line 605, in _validate_data\n",
      "    out = check_array(X, input_name=\"X\", **check_params)\n",
      "          ^^^^^^^^^^^^^^^^^^^^^^^^^^^^^^^^^^^^^^^^^^^^^^\n",
      "  File \"/Users/ilcors-dev/src/unibo/unibo-nids-research/.venv/lib/python3.11/site-packages/sklearn/utils/validation.py\", line 967, in check_array\n",
      "    raise ValueError(\n",
      "ValueError: Found array with 0 sample(s) (shape=(0, 78)) while a minimum of 1 is required by NearestNeighbors.\n",
      "\n",
      "[80.77%] Success: CosineTest for Heartbleed (Elapsed time: 58.93s)\n",
      "[82.69%] Success: PortTest for Heartbleed (Elapsed time: 60.24s)\n",
      "[84.62%] Success: SingleFeatureEfficacyTest for DoS slowloris (Elapsed time: 2555.33s)\n",
      "[86.54%] Success: NearestNeighboursTest for Heartbleed (Elapsed time: 87.11s)\n",
      "[88.46%] Success: SingleFeatureEfficacyTest for DDoS (Elapsed time: 5676.06s)\n",
      "[90.38%] Success: SingleFeatureEfficacyTest for Web Attack - Sql Injection (Elapsed time: 881.14s)\n",
      "[92.31%] Success: SingleFeatureEfficacyTest for Infiltration (Elapsed time: 1854.40s)\n",
      "[94.23%] Success: SingleFeatureEfficacyTest for Bot (Elapsed time: 2279.81s)\n",
      "[96.15%] Success: SingleFeatureEfficacyTest for DoS Hulk (Elapsed time: 5829.83s)\n",
      "[98.08%] Success: SingleFeatureEfficacyTest for DoS Slowhttptest (Elapsed time: 2650.91s)\n",
      "[100.00%] Success: SingleFeatureEfficacyTest for Heartbleed (Elapsed time: 849.41s)\n",
      "\n",
      "All benchmarks completed in 6047.53s.\n"
     ]
    }
   ],
   "source": [
    "run_all_benchmarks_parallel(cic17_base_metadata_path, cic17_base_results_path, cic17_base_data_folder, cic17_targets, tests)"
   ]
  },
  {
   "cell_type": "markdown",
   "id": "00453748-4b28-430c-914e-da25ccef735e",
   "metadata": {},
   "source": [
    "## CIC17 - improved version"
   ]
  },
  {
   "cell_type": "code",
   "execution_count": 24,
   "id": "c9a70228-d1f7-417b-9677-9cca8dcec5a3",
   "metadata": {},
   "outputs": [],
   "source": [
    "cic17_improved_metadata_path = \"./DataBadSmells/metadata/cic/metadata_improved.json\"\n",
    "cic17_improved_results_path = \"./results/CIC17_improved_third_run/\"\n",
    "cic17_improved_data_folder = \"./data/CIC17_improved/\""
   ]
  },
  {
   "cell_type": "code",
   "execution_count": 14,
   "id": "d4497996-87fc-428d-8452-3c0646ebe3b1",
   "metadata": {},
   "outputs": [
    {
     "data": {
      "text/plain": [
       "'Success: CompleteTest for DoS Hulk (Elapsed time: 914.09s)'"
      ]
     },
     "execution_count": 14,
     "metadata": {},
     "output_type": "execute_result"
    }
   ],
   "source": [
    "run_benchmark(cic17_improved_metadata_path, cic17_improved_results_path, 'DoS Hulk', cic17_improved_data_folder, 'CompleteTest')"
   ]
  },
  {
   "cell_type": "code",
   "execution_count": 25,
   "id": "9e697a33-e533-4187-bec9-2406d04916bf",
   "metadata": {},
   "outputs": [
    {
     "data": {
      "text/plain": [
       "'Success: CompleteTest for DoS slowloris (Elapsed time: 221.34s)'"
      ]
     },
     "execution_count": 25,
     "metadata": {},
     "output_type": "execute_result"
    }
   ],
   "source": [
    "run_benchmark(cic17_improved_metadata_path, cic17_improved_results_path, 'DoS slowloris', cic17_improved_data_folder, 'CompleteTest')"
   ]
  },
  {
   "cell_type": "code",
   "execution_count": 27,
   "id": "d1501ea9-36ef-41ed-afea-875a65c8bc61",
   "metadata": {},
   "outputs": [
    {
     "name": "stderr",
     "output_type": "stream",
     "text": [
      "Python(52455) MallocStackLogging: can't turn off malloc stack logging because it was not enabled.\n",
      "Python(52456) MallocStackLogging: can't turn off malloc stack logging because it was not enabled.\n",
      "Python(52457) MallocStackLogging: can't turn off malloc stack logging because it was not enabled.\n",
      "Python(52458) MallocStackLogging: can't turn off malloc stack logging because it was not enabled.\n",
      "Python(52459) MallocStackLogging: can't turn off malloc stack logging because it was not enabled.\n",
      "Python(52462) MallocStackLogging: can't turn off malloc stack logging because it was not enabled.\n",
      "Python(52464) MallocStackLogging: can't turn off malloc stack logging because it was not enabled.\n",
      "Python(52465) MallocStackLogging: can't turn off malloc stack logging because it was not enabled.\n"
     ]
    },
    {
     "name": "stdout",
     "output_type": "stream",
     "text": [
      "[7.69%] Success: CompleteTest for DoS slowloris (Elapsed time: 594.81s)\n",
      "[15.38%] Success: CompleteTest for Port Scan (Elapsed time: 594.83s)\n"
     ]
    },
    {
     "name": "stderr",
     "output_type": "stream",
     "text": [
      "Python(55388) MallocStackLogging: can't turn off malloc stack logging because it was not enabled.\n",
      "Python(55389) MallocStackLogging: can't turn off malloc stack logging because it was not enabled.\n"
     ]
    },
    {
     "name": "stdout",
     "output_type": "stream",
     "text": [
      "[23.08%] Success: CompleteTest for FTP Patator (Elapsed time: 617.21s)\n"
     ]
    },
    {
     "name": "stderr",
     "output_type": "stream",
     "text": [
      "Python(55501) MallocStackLogging: can't turn off malloc stack logging because it was not enabled.\n"
     ]
    },
    {
     "name": "stdout",
     "output_type": "stream",
     "text": [
      "[30.77%] Success: CompleteTest for SSH Patator (Elapsed time: 619.57s)\n"
     ]
    },
    {
     "name": "stderr",
     "output_type": "stream",
     "text": [
      "Python(55511) MallocStackLogging: can't turn off malloc stack logging because it was not enabled.\n",
      "Python(57980) MallocStackLogging: can't turn off malloc stack logging because it was not enabled.\n"
     ]
    },
    {
     "name": "stdout",
     "output_type": "stream",
     "text": [
      "[38.46%] Success: CompleteTest for Bot (Elapsed time: 523.28s)\n",
      "[46.15%] Success: CompleteTest for Web Attack - Sql Injection (Elapsed time: 509.63s)\n",
      "[53.85%] Success: CompleteTest for Web Attack - Brute Force (Elapsed time: 818.66s)\n",
      "[61.54%] Success: CompleteTest for DoS Slowhttptest (Elapsed time: 1434.88s)\n",
      "[69.23%] Success: CompleteTest for DoS GoldenEye (Elapsed time: 1583.38s)\n",
      "[76.92%] Success: CompleteTest for Infiltration (Elapsed time: 1054.03s)\n",
      "[84.62%] Success: CompleteTest for Heartbleed (Elapsed time: 604.46s)\n",
      "[92.31%] Success: CompleteTest for DDoS (Elapsed time: 1873.41s)\n",
      "[100.00%] Success: CompleteTest for DoS Hulk (Elapsed time: 1922.49s)\n",
      "\n",
      "All benchmarks completed in 1922.49s.\n"
     ]
    }
   ],
   "source": [
    "run_all_benchmarks_parallel(cic17_improved_metadata_path, \"./results/CIC17_improved_third_run/\", cic17_improved_data_folder, cic17_targets, tests)"
   ]
  },
  {
   "cell_type": "code",
   "execution_count": null,
   "id": "e47d5a21-5c5d-4567-b8d2-2cf088cf9259",
   "metadata": {},
   "outputs": [],
   "source": []
  }
 ],
 "metadata": {
  "kernelspec": {
   "display_name": "Python 3 (ipykernel)",
   "language": "python",
   "name": "python3"
  },
  "language_info": {
   "codemirror_mode": {
    "name": "ipython",
    "version": 3
   },
   "file_extension": ".py",
   "mimetype": "text/x-python",
   "name": "python",
   "nbconvert_exporter": "python",
   "pygments_lexer": "ipython3",
   "version": "3.11.11"
  }
 },
 "nbformat": 4,
 "nbformat_minor": 5
}
